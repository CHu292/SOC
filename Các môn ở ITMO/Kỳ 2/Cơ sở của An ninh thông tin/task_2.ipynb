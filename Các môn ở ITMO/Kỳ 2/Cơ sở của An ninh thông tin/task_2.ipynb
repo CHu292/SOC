{
  "nbformat": 4,
  "nbformat_minor": 0,
  "metadata": {
    "colab": {
      "name": "task_2.ipynb",
      "provenance": [],
      "collapsed_sections": [],
      "toc_visible": true
    },
    "kernelspec": {
      "display_name": "Python 3",
      "language": "python",
      "name": "python3"
    },
    "language_info": {
      "codemirror_mode": {
        "name": "ipython",
        "version": 3
      },
      "file_extension": ".py",
      "mimetype": "text/x-python",
      "name": "python",
      "nbconvert_exporter": "python",
      "pygments_lexer": "ipython3",
      "version": "3.7.6"
    }
  },
  "cells": [
    {
      "cell_type": "markdown",
      "metadata": {
        "id": "8tlWOO2U7kSh"
      },
      "source": [
        "# Меняем по заданию\n",
        "\n",
        "\n"
      ]
    },
    {
      "cell_type": "code",
      "metadata": {
        "id": "-lMmEteLvZ_e"
      },
      "source": [
        "data_URL = \"https://courses.openedu.ru/assets/courseware/v1/98bd30e353cb034ff3274cc32db3d900/asset-v1:ITMOUniversity+INFSECBAS+fall_2021_ITMO+type@asset+block/360T.csv\"\n",
        "\n",
        "test_size = 0.3\n",
        "random_state = 65\n",
        "criterion = 'entropy'\n",
        "min_samples_leaf = 31\n",
        "max_leaf_nodes = 30\n",
        "\n",
        "task3 = [ \"https://courses.openedu.ru/assets/courseware/v1/ab75da6cdf6315f16705cd0e43f69aac/asset-v1:ITMOUniversity+INFSECBAS+fall_2021_ITMO+type@asset+block/Task_2_test_file_44.csv\",\n",
        "          \"https://courses.openedu.ru/assets/courseware/v1/ba0102632b05adaa70d5db089215d314/asset-v1:ITMOUniversity+INFSECBAS+fall_2021_ITMO+type@asset+block/Task_2_test_file_78.csv\",\n",
        "          \"https://courses.openedu.ru/assets/courseware/v1/92947739c0fb4c8303ff207d82664e82/asset-v1:ITMOUniversity+INFSECBAS+fall_2021_ITMO+type@asset+block/Task_2_test_file_107.csv\",\n",
        "          \"https://courses.openedu.ru/assets/courseware/v1/e3790f31e3db983570a8ab3319c94e50/asset-v1:ITMOUniversity+INFSECBAS+fall_2021_ITMO+type@asset+block/Task_2_test_file_166.csv\"]"
      ],
      "execution_count": null,
      "outputs": []
    },
    {
      "cell_type": "markdown",
      "metadata": {
        "id": "HCeNRdwbkzpg"
      },
      "source": [
        "# Запускаем код"
      ]
    },
    {
      "cell_type": "code",
      "metadata": {
        "colab": {
          "base_uri": "https://localhost:8080/"
        },
        "id": "f9hFqqFExqOg",
        "outputId": "38dfcff5-e46f-4909-c809-0b7e8e9f2af2"
      },
      "source": [
        "import pandas as pd\n",
        "import matplotlib\n",
        "import numpy as np\n",
        "import matplotlib.pyplot as plt\n",
        "from sklearn.model_selection import train_test_split\n",
        "from sklearn.tree import DecisionTreeClassifier\n",
        "from sklearn.metrics import precision_recall_fscore_support\n",
        "from sklearn import tree\n",
        "%matplotlib inline\n",
        "\n",
        "df = pd.read_csv(data_URL)\n",
        "X_train, X_test, y_train, y_test = train_test_split(df.iloc[:,:-1], df.iloc[:,-1], test_size=test_size, random_state=random_state, stratify = df.iloc[:,-1])\n",
        "clf = tree.DecisionTreeClassifier(criterion=criterion, #критерий разделения\n",
        "                              min_samples_leaf=min_samples_leaf, #минимальное число объектов в листе\n",
        "                              max_leaf_nodes=max_leaf_nodes, #максимальное число листьев\n",
        "                              random_state=random_state).fit(X_train, y_train)\n",
        "predictions = clf.predict(X_test)\n",
        "precision, recall, f1score, support = precision_recall_fscore_support(y_test, predictions)\n",
        "print(\"Ответы:\")\n",
        "print(\"Precision (macro avg) %.3f\" %(sum(precision)/len(precision)))\n",
        "print(\"Recall  (macro avg) %.3f\" %(sum(recall)/len(recall)))\n",
        "print(\"F-score (macro avg) %.3f\" %(sum(f1score)/len(f1score)))\n",
        "print(\"Вычислите глубину полученного дерева:\", clf.get_depth())\n",
        "for link, i in zip(task3, range(4)):\n",
        "  print(f\"Обьект {i + 1}:\", clf.predict([pd.read_csv(link).loc[0]]))"
      ],
      "execution_count": null,
      "outputs": [
        {
          "output_type": "stream",
          "name": "stdout",
          "text": [
            "Ответы:\n",
            "Precision (macro avg) 0.937\n",
            "Recall  (macro avg) 0.921\n",
            "F-score (macro avg) 0.929\n",
            "Вычислите глубину полученного дерева: 6\n",
            "Обьект 1: [0]\n",
            "Обьект 2: [0]\n",
            "Обьект 3: [1]\n",
            "Обьект 4: [1]\n"
          ]
        }
      ]
    }
  ]
}