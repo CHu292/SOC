{
  "nbformat": 4,
  "nbformat_minor": 0,
  "metadata": {
    "kernelspec": {
      "display_name": "Python 3",
      "language": "python",
      "name": "python3"
    },
    "language_info": {
      "codemirror_mode": {
        "name": "ipython",
        "version": 3
      },
      "file_extension": ".py",
      "mimetype": "text/x-python",
      "name": "python",
      "nbconvert_exporter": "python",
      "pygments_lexer": "ipython3",
      "version": "3.7.6"
    },
    "colab": {
      "name": "Task_5_students.ipynb",
      "provenance": []
    }
  },
  "cells": [
    {
      "cell_type": "markdown",
      "metadata": {
        "id": "b8NBRF4VFZ1e"
      },
      "source": [
        "# Меняем"
      ]
    },
    {
      "cell_type": "code",
      "metadata": {
        "id": "5fP2ogYJFdAO"
      },
      "source": [
        "data_URL = \"https://courses.openedu.ru/assets/courseware/v1/0c23e3262b6cf0e730653e275ae18f42/asset-v1:ITMOUniversity+INFSECBAS+fall_2021_ITMO+type@asset+block/Task_5_selected_data.csv\"\n",
        "\n",
        "random_state = 79\n",
        "K = 10"
      ],
      "execution_count": 13,
      "outputs": []
    },
    {
      "cell_type": "markdown",
      "metadata": {
        "id": "w1LZawRgFZ1k"
      },
      "source": [
        "# Код программы"
      ]
    },
    {
      "cell_type": "code",
      "metadata": {
        "colab": {
          "base_uri": "https://localhost:8080/"
        },
        "id": "u-An8Ih8FZ1l",
        "outputId": "a804852d-e5c8-46b7-e06e-92cc2b077a12"
      },
      "source": [
        "!pip install --upgrade pip\n",
        "!pip install scikit-learn==0.23.0\n",
        "import pandas as pd\n",
        "import numpy as np\n",
        "from sklearn.model_selection import cross_validate\n",
        "from sklearn.tree import DecisionTreeClassifier\n",
        "from sklearn.ensemble import RandomForestClassifier\n",
        "from sklearn.linear_model import LogisticRegression\n",
        "from sklearn.model_selection import cross_validate\n",
        "from sklearn.model_selection import ShuffleSplit\n",
        "from tqdm import tqdm\n",
        "import warnings\n",
        "warnings.filterwarnings(\"ignore\")\n",
        "\n",
        "df = pd.read_csv(data_URL)\n",
        "\n",
        "X = df.iloc[:, :-1] #Предикторы\n",
        "y = df.iloc[:, -1] #Классы\n",
        "\n",
        "estimators = {\n",
        "    'logit': LogisticRegression(n_jobs=-3, random_state=random_state),\n",
        "    'dtc': DecisionTreeClassifier(random_state=random_state),\n",
        "    'rfc': RandomForestClassifier(random_state=random_state, n_jobs=-3)\n",
        "}\n",
        "\n",
        "results = {}\n",
        "\n",
        "cv = K\n",
        "cross_val = ShuffleSplit(n_splits = cv, test_size = 1/cv, random_state = random_state)\n",
        "for name, est in tqdm(estimators.items()):\n",
        "    scores = cross_validate(est, X, y, scoring=['accuracy', 'f1_weighted', 'roc_auc_ovr_weighted'], cv = cross_val, n_jobs=-3)\n",
        "    results.update({name: scores})\n",
        "\n",
        "print(\"Ответы:\")\n",
        "for est in tqdm(estimators.keys()):\n",
        "    acc = results[est]['test_accuracy']\n",
        "    f1 = results[est]['test_f1_weighted']\n",
        "    roc_auc = results[est]['test_roc_auc_ovr_weighted']\n",
        "    print(f'Accuracy: {round(np.mean(acc),3)}')\n",
        "    print(f'F1: {round(np.mean(f1),3)}')\n",
        "    print(f'ROC AUC: {round(np.mean(roc_auc),3)}')"
      ],
      "execution_count": 14,
      "outputs": [
        {
          "output_type": "stream",
          "name": "stdout",
          "text": [
            "Requirement already satisfied: pip in /usr/local/lib/python3.7/dist-packages (21.2.4)\n",
            "\u001b[33mWARNING: Running pip as the 'root' user can result in broken permissions and conflicting behaviour with the system package manager. It is recommended to use a virtual environment instead: https://pip.pypa.io/warnings/venv\u001b[0m\n",
            "Requirement already satisfied: scikit-learn==0.23.0 in /usr/local/lib/python3.7/dist-packages (0.23.0)\n",
            "Requirement already satisfied: joblib>=0.11 in /usr/local/lib/python3.7/dist-packages (from scikit-learn==0.23.0) (1.0.1)\n",
            "Requirement already satisfied: numpy>=1.13.3 in /usr/local/lib/python3.7/dist-packages (from scikit-learn==0.23.0) (1.19.5)\n",
            "Requirement already satisfied: threadpoolctl>=2.0.0 in /usr/local/lib/python3.7/dist-packages (from scikit-learn==0.23.0) (3.0.0)\n",
            "Requirement already satisfied: scipy>=0.19.1 in /usr/local/lib/python3.7/dist-packages (from scikit-learn==0.23.0) (1.4.1)\n",
            "\u001b[33mWARNING: Running pip as the 'root' user can result in broken permissions and conflicting behaviour with the system package manager. It is recommended to use a virtual environment instead: https://pip.pypa.io/warnings/venv\u001b[0m\n"
          ]
        },
        {
          "output_type": "stream",
          "name": "stderr",
          "text": [
            "100%|██████████| 3/3 [00:28<00:00,  9.39s/it]\n",
            "100%|██████████| 3/3 [00:00<00:00, 3286.21it/s]"
          ]
        },
        {
          "output_type": "stream",
          "name": "stdout",
          "text": [
            "\n",
            "Results for logit\n",
            "Accuracy: 0.268\n",
            "F1: 0.184\n",
            "ROC AUC: 0.615\n",
            "\n",
            "Results for dtc\n",
            "Accuracy: 0.747\n",
            "F1: 0.747\n",
            "ROC AUC: 0.842\n",
            "\n",
            "Results for rfc\n",
            "Accuracy: 0.801\n",
            "F1: 0.801\n",
            "ROC AUC: 0.956\n"
          ]
        },
        {
          "output_type": "stream",
          "name": "stderr",
          "text": [
            "\n"
          ]
        }
      ]
    },
    {
      "cell_type": "code",
      "metadata": {
        "id": "0aieumbgFZ1p"
      },
      "source": [
        ""
      ],
      "execution_count": null,
      "outputs": []
    }
  ]
}