{
  "nbformat": 4,
  "nbformat_minor": 0,
  "metadata": {
    "kernelspec": {
      "display_name": "Python 3",
      "language": "python",
      "name": "python3"
    },
    "language_info": {
      "codemirror_mode": {
        "name": "ipython",
        "version": 3
      },
      "file_extension": ".py",
      "mimetype": "text/x-python",
      "name": "python",
      "nbconvert_exporter": "python",
      "pygments_lexer": "ipython3",
      "version": "3.7.6"
    },
    "colab": {
      "name": "Task_3_Students (1).ipynb",
      "provenance": []
    }
  },
  "cells": [
    {
      "cell_type": "markdown",
      "metadata": {
        "id": "y3m8jqzgz4Gq"
      },
      "source": [
        "# Используемые модули"
      ]
    },
    {
      "cell_type": "code",
      "metadata": {
        "id": "4yGZYQV63aHB"
      },
      "source": [
        "!wget \"https://courses.openedu.ru/assets/courseware/v1/2fc0edea327a162d437fa14d07e1e08f/asset-v1:ITMOUniversity+INFSECBAS+fall_2021_ITMO+type@asset+block/Task_3_data_preprocessed.csv.zip\"\n",
        "!unzip Task_3_data_preprocessed.csv"
      ],
      "execution_count": null,
      "outputs": []
    },
    {
      "cell_type": "markdown",
      "metadata": {
        "id": "SXAeaL9L3sar"
      },
      "source": [
        "# Меняем"
      ]
    },
    {
      "cell_type": "code",
      "metadata": {
        "id": "TvFrG0woz8lL"
      },
      "source": [
        "test_size = 0.25\n",
        "random_state = 29\n",
        "n_jobs = 100"
      ],
      "execution_count": 18,
      "outputs": []
    },
    {
      "cell_type": "markdown",
      "metadata": {
        "id": "Sh_wRlMp3uHi"
      },
      "source": [
        "# Код выполнения"
      ]
    },
    {
      "cell_type": "code",
      "metadata": {
        "colab": {
          "base_uri": "https://localhost:8080/"
        },
        "id": "wZiFcGQH2D-B",
        "outputId": "8e121bd9-95cc-42f3-95b9-7cf0c1dfa3d6"
      },
      "source": [
        "import pandas as pd\n",
        "from sklearn.metrics import accuracy_score, f1_score, precision_score, recall_score\n",
        "from sklearn.ensemble import RandomForestClassifier\n",
        "from sklearn.model_selection import train_test_split\n",
        "\n",
        "df = pd.read_csv(\"Task_3_data_preprocessed.csv\")\n",
        "x_train, x_test, y_train, y_test = train_test_split(df.iloc[:,:821], df.iloc[:,-1], test_size=test_size, random_state=random_state, stratify = df.iloc[:,-1])\n",
        "rfc = RandomForestClassifier(n_jobs=n_jobs, random_state=random_state)\n",
        "from sklearn.metrics import classification_report\n",
        "rfc.fit(x_train, y_train)\n",
        "y_pred = rfc.predict(x_test)\n",
        "a = classification_report(y_test, y_pred, digits=3, output_dict = True)\n",
        "\n",
        "print('Precision: ', round(a['macro avg']['precision'],3))\n",
        "print('Recall: ', round(a['macro avg']['recall'],3))\n",
        "print('F1: ', round(a['macro avg']['f1-score'],3))"
      ],
      "execution_count": 21,
      "outputs": [
        {
          "output_type": "stream",
          "name": "stdout",
          "text": [
            "Precision:  0.732\n",
            "Recall:  0.725\n",
            "F1:  0.719\n"
          ]
        }
      ]
    }
  ]
}