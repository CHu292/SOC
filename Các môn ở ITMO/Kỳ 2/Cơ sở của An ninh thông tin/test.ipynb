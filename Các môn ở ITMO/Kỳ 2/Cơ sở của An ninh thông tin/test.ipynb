{
  "nbformat": 4,
  "nbformat_minor": 0,
  "metadata": {
    "colab": {
      "name": "Untitled0.ipynb",
      "provenance": []
    },
    "kernelspec": {
      "name": "python3",
      "display_name": "Python 3"
    },
    "language_info": {
      "name": "python"
    }
  },
  "cells": [
    {
      "cell_type": "markdown",
      "metadata": {
        "id": "SzZr5Dblh_J5"
      },
      "source": [
        "# Меняем по заданию"
      ]
    },
    {
      "cell_type": "code",
      "metadata": {
        "id": "j2wrK5uJYWyP"
      },
      "source": [
        "data_URL = \"https://drive.google.com/u/0/uc?id=1AcmHUoN0xM_nzjU1fHjFBGQBiQ01ST6E&export=download\"\n",
        "random_state = 90\n",
        "test_size = 0.3\n",
        "C = 0.5\n",
        "max_iter = 1000\n",
        "dual = False\n",
        "\n",
        "coef = 4\n",
        "index = [69474, 63533]"
      ],
      "execution_count": 11,
      "outputs": []
    },
    {
      "cell_type": "markdown",
      "metadata": {
        "id": "C-PRlVnDh8go"
      },
      "source": [
        "# Запускаем код"
      ]
    },
    {
      "cell_type": "code",
      "metadata": {
        "colab": {
          "base_uri": "https://localhost:8080/"
        },
        "id": "h6newy1uMspJ",
        "outputId": "caf4f1ed-9cb7-4ca6-fe69-795bfd24757c"
      },
      "source": [
        "import pandas as pd\n",
        "from sklearn.model_selection import train_test_split\n",
        "from sklearn.metrics import accuracy_score, f1_score, precision_score, recall_score, confusion_matrix\n",
        "from sklearn.metrics import classification_report, precision_recall_fscore_support\n",
        "from sklearn.svm import LinearSVC\n",
        "from sklearn import preprocessing\n",
        "from sklearn.preprocessing import MinMaxScaler\n",
        "\n",
        "labels = []\n",
        "df = pd.read_csv(data_URL, index_col=\"id\")\n",
        "for i in df[\"label\"]:\n",
        "  labels.append(i)\n",
        "\n",
        "df = df.drop([\"proto\", \"service\", \"state\", \"attack_cat\", \"label\"], axis=1)\n",
        "\n",
        "scaler = MinMaxScaler().fit(df)\n",
        "result = scaler.fit_transform(df)\n",
        "\n",
        "x_train, x_test, y_train, y_test = train_test_split(result, labels, random_state=random_state, test_size=test_size)\n",
        "\n",
        "model = LinearSVC(random_state=random_state, C=C, max_iter=max_iter, dual=dual)\n",
        "model.fit(x_train, y_train)\n",
        "predictions = model.predict(x_test)\n",
        "\n",
        "a = classification_report(y_test, predictions, digits=3, output_dict = True)\n",
        "print(f\"Коэффициент {coef} = %.3f\" % model.coef_[0].tolist()[coef])\n",
        "print('F1: ', round(a['macro avg']['f1-score'],3))\n",
        "\n",
        "for i in index:\n",
        "  print(f\"Для пакета с id: {i}, назначен класс:\", model.predict([result2[i]])[0])"
      ],
      "execution_count": 15,
      "outputs": [
        {
          "output_type": "stream",
          "name": "stdout",
          "text": [
            "Коэффициент 4 = -2.071\n",
            "F1:  0.862\n",
            "Для пакета с id: 69474, назначен класс: 0\n",
            "Для пакета с id: 63533, назначен класс: 1\n"
          ]
        }
      ]
    }
  ]
}