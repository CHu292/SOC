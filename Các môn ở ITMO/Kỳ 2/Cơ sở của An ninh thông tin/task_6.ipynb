{
  "nbformat": 4,
  "nbformat_minor": 0,
  "metadata": {
    "colab": {
      "name": "Task_6_P_Students.ipynb",
      "provenance": [],
      "collapsed_sections": []
    },
    "kernelspec": {
      "display_name": "Python 3",
      "language": "python",
      "name": "python3"
    },
    "language_info": {
      "codemirror_mode": {
        "name": "ipython",
        "version": 3
      },
      "file_extension": ".py",
      "mimetype": "text/x-python",
      "name": "python",
      "nbconvert_exporter": "python",
      "pygments_lexer": "ipython3",
      "version": "3.7.6"
    }
  },
  "cells": [
    {
      "cell_type": "markdown",
      "metadata": {
        "id": "pMGmmwZjPxap"
      },
      "source": [
        "# Меняем по заданию"
      ]
    },
    {
      "cell_type": "code",
      "metadata": {
        "id": "8Fj4d845HpH4"
      },
      "source": [
        "only_data = 6000\n",
        "only_test_data = 500\n",
        "epochs = 6"
      ],
      "execution_count": 25,
      "outputs": []
    },
    {
      "cell_type": "markdown",
      "metadata": {
        "id": "NEaHiz5aP08S"
      },
      "source": [
        "# Скачиваем"
      ]
    },
    {
      "cell_type": "code",
      "metadata": {
        "id": "BLFDUaTGwq-T",
        "colab": {
          "base_uri": "https://localhost:8080/"
        },
        "outputId": "2a38c42c-84d2-48bb-a4cd-10f55478398a"
      },
      "source": [
        "!pip install adversarial-robustness-toolbox\n",
        "!pip install cma"
      ],
      "execution_count": 1,
      "outputs": [
        {
          "output_type": "stream",
          "name": "stdout",
          "text": [
            "Collecting adversarial-robustness-toolbox\n",
            "  Downloading adversarial_robustness_toolbox-1.8.0-py3-none-any.whl (1.1 MB)\n",
            "\u001b[K     |████████████████████████████████| 1.1 MB 5.2 MB/s \n",
            "\u001b[?25hCollecting numba~=0.53.1\n",
            "  Downloading numba-0.53.1-cp37-cp37m-manylinux2014_x86_64.whl (3.4 MB)\n",
            "\u001b[K     |████████████████████████████████| 3.4 MB 22.5 MB/s \n",
            "\u001b[?25hRequirement already satisfied: tqdm in /usr/local/lib/python3.7/dist-packages (from adversarial-robustness-toolbox) (4.62.3)\n",
            "Requirement already satisfied: numpy>=1.18.0 in /usr/local/lib/python3.7/dist-packages (from adversarial-robustness-toolbox) (1.19.5)\n",
            "Requirement already satisfied: setuptools in /usr/local/lib/python3.7/dist-packages (from adversarial-robustness-toolbox) (57.4.0)\n",
            "Requirement already satisfied: scipy>=1.4.1 in /usr/local/lib/python3.7/dist-packages (from adversarial-robustness-toolbox) (1.4.1)\n",
            "Requirement already satisfied: scikit-learn<0.24.3,>=0.22.2 in /usr/local/lib/python3.7/dist-packages (from adversarial-robustness-toolbox) (0.22.2.post1)\n",
            "Requirement already satisfied: six in /usr/local/lib/python3.7/dist-packages (from adversarial-robustness-toolbox) (1.15.0)\n",
            "Collecting llvmlite<0.37,>=0.36.0rc1\n",
            "  Downloading llvmlite-0.36.0-cp37-cp37m-manylinux2010_x86_64.whl (25.3 MB)\n",
            "\u001b[K     |████████████████████████████████| 25.3 MB 83 kB/s \n",
            "\u001b[?25hRequirement already satisfied: joblib>=0.11 in /usr/local/lib/python3.7/dist-packages (from scikit-learn<0.24.3,>=0.22.2->adversarial-robustness-toolbox) (1.0.1)\n",
            "Installing collected packages: llvmlite, numba, adversarial-robustness-toolbox\n",
            "  Attempting uninstall: llvmlite\n",
            "    Found existing installation: llvmlite 0.34.0\n",
            "    Uninstalling llvmlite-0.34.0:\n",
            "      Successfully uninstalled llvmlite-0.34.0\n",
            "  Attempting uninstall: numba\n",
            "    Found existing installation: numba 0.51.2\n",
            "    Uninstalling numba-0.51.2:\n",
            "      Successfully uninstalled numba-0.51.2\n",
            "Successfully installed adversarial-robustness-toolbox-1.8.0 llvmlite-0.36.0 numba-0.53.1\n"
          ]
        }
      ]
    },
    {
      "cell_type": "markdown",
      "metadata": {
        "id": "gyKerdEZhJ8h"
      },
      "source": [
        "# Запускаем код программы"
      ]
    },
    {
      "cell_type": "code",
      "metadata": {
        "id": "BmpnO8vBROu3",
        "colab": {
          "base_uri": "https://localhost:8080/",
          "height": 1000
        },
        "outputId": "707cd6d8-e182-442c-cc3a-c7ba2ce08d9a"
      },
      "source": [
        "import warnings\n",
        "import tensorflow as tf\n",
        "warnings.filterwarnings('ignore')\n",
        "tf.compat.v1.disable_eager_execution()\n",
        "from matplotlib import pyplot as plt\n",
        "from art.estimators.classification import KerasClassifier\n",
        "from art.attacks.evasion import FastGradientMethod, CarliniLInfMethod\n",
        "from art.attacks.evasion import DeepFool, SaliencyMapMethod, ProjectedGradientDescent,PixelAttack\n",
        "import keras\n",
        "import time\n",
        "from tensorflow import keras\n",
        "from keras.models import Sequential\n",
        "from art.config import ART_DATA_PATH\n",
        "from art.attacks.evasion import ProjectedGradientDescent\n",
        "from art.utils import get_file\n",
        "from keras.models import load_model\n",
        "import numpy as np\n",
        "import tensorflow as tf\n",
        "import random as rn\n",
        "import os\n",
        "\n",
        "(x_train, y_train), (x_test, y_test)  = tf.keras.datasets.cifar10.load_data()\n",
        "X_train = x_train[:only_data]\n",
        "X_test = x_test[:only_test_data]\n",
        "Y_train = y_train[:only_data]\n",
        "Y_test = y_test[:only_test_data]\n",
        "\n",
        "X_train = X_train/255\n",
        "X_test = X_test/255\n",
        "classes_name = ['airplane', 'automobile', 'bird', 'cat', 'deer', 'dog', 'frog', 'horse', 'ship', 'truck']\n",
        "def refresh():\n",
        "  os.environ['PYTHONHASHSEED']=str(1)\n",
        "  np.random.seed(1)\n",
        "  rn.seed(1)\n",
        "  session_conf = tf.compat.v1.ConfigProto(intra_op_parallelism_threads=1,\n",
        "                                          inter_op_parallelism_threads=1)\n",
        "  tf.compat.v1.set_random_seed(1)\n",
        "  sess = tf.compat.v1.Session(graph=tf.compat.v1.get_default_graph(), config=session_conf)\n",
        "  tf.compat.v1.keras.backend.set_session(sess)\n",
        "  tf.compat.v1.disable_eager_execution()\n",
        "\n",
        "refresh()\n",
        "model = 0\n",
        "seed = 1\n",
        "model = tf.keras.models.Sequential()\n",
        "model.add(tf.keras.layers.Conv2D(filters=32, kernel_size=(3, 3), padding='same', activation='relu', input_shape = [32, 32, 3], kernel_initializer=keras.initializers.glorot_uniform(seed)))\n",
        "model.add(tf.keras.layers.Conv2D(filters=32, kernel_size=(3, 3), padding='same', activation='relu', kernel_initializer=keras.initializers.glorot_uniform(seed)))\n",
        "model.add(tf.keras.layers.MaxPool2D(pool_size=(2,2), strides=2, padding='valid'))\n",
        "model.add(tf.keras.layers.Dropout(0.5))\n",
        "model.add(tf.keras.layers.Flatten())\n",
        "model.add(tf.keras.layers.Dense(units = 128, activation='relu', kernel_initializer=keras.initializers.glorot_uniform(seed)))\n",
        "model.add(tf.keras.layers.Dense(units=10, activation='softmax', kernel_initializer=keras.initializers.glorot_uniform(seed)))\n",
        "model.compile(optimizer='adam', loss='sparse_categorical_crossentropy', metrics=['accuracy'])\n",
        "model.summary()\n",
        "\n",
        "model.fit(X_train, Y_train, epochs = epochs,validation_data=(X_test, Y_test))\n",
        "\n",
        "loss_test, accuracy_test_1 = model.evaluate(X_test, Y_test)\n",
        "\n",
        "X2_test, Y2_test = X_test, Y_test\n",
        "X3_test, Y3_test = X_test, Y_test\n",
        "X4_test, Y4_test = X_test, Y_test\n",
        "\n",
        "epsa = 0.03\n",
        "classifier = KerasClassifier(model = model, clip_values = (0.0, 1.0))\n",
        "\n",
        "attack_fgsm = FastGradientMethod(estimator = classifier,eps = epsa, eps_step = 0.01)\n",
        "x_test_adv2 = (attack_fgsm.generate(X2_test))\n",
        "x_test_adv_rez2 = x_test_adv2\n",
        "\n",
        "loss_test, accuracy_test_2 = model.evaluate(x_test_adv_rez2, Y2_test)\n",
        "\n",
        "\n",
        "attack_pgd = ProjectedGradientDescent(estimator = classifier, eps = epsa, eps_step = 0.01)\n",
        "x_test_adv3 = (attack_pgd.generate(X3_test))\n",
        "x_test_adv_rez3 = x_test_adv3\n",
        "\n",
        "loss_test, accuracy_test_3 = model.evaluate(x_test_adv_rez3, Y3_test)\n",
        "\n",
        "\n",
        "attack_JSMA = SaliencyMapMethod(classifier = classifier)\n",
        "x_test_adv4 = (attack_JSMA.generate(X4_test))\n",
        "x_test_adv_rez4 = x_test_adv4\n",
        "\n",
        "loss_test, accuracy_test_4 = model.evaluate(x_test_adv_rez4, Y4_test)\n",
        "\n",
        "print(\"Ответы:\")\n",
        "print('Accuracy: {:4.3f}'.format(accuracy_test_1))\n",
        "print('Accuracy FGM: {:4.3f}'.format(accuracy_test_2))\n",
        "print('Accuracy PGD: {:4.3f}'.format(accuracy_test_3))\n",
        "print('Accuracy JSMA: {:4.3f}'.format(accuracy_test_4))\n"
      ],
      "execution_count": 43,
      "outputs": [
        {
          "output_type": "stream",
          "name": "stdout",
          "text": [
            "Model: \"sequential_3\"\n",
            "_________________________________________________________________\n",
            "Layer (type)                 Output Shape              Param #   \n",
            "=================================================================\n",
            "conv2d_6 (Conv2D)            (None, 32, 32, 32)        896       \n",
            "_________________________________________________________________\n",
            "conv2d_7 (Conv2D)            (None, 32, 32, 32)        9248      \n",
            "_________________________________________________________________\n",
            "max_pooling2d_3 (MaxPooling2 (None, 16, 16, 32)        0         \n",
            "_________________________________________________________________\n",
            "dropout_3 (Dropout)          (None, 16, 16, 32)        0         \n",
            "_________________________________________________________________\n",
            "flatten_3 (Flatten)          (None, 8192)              0         \n",
            "_________________________________________________________________\n",
            "dense_6 (Dense)              (None, 128)               1048704   \n",
            "_________________________________________________________________\n",
            "dense_7 (Dense)              (None, 10)                1290      \n",
            "=================================================================\n",
            "Total params: 1,060,138\n",
            "Trainable params: 1,060,138\n",
            "Non-trainable params: 0\n",
            "_________________________________________________________________\n",
            "Train on 6000 samples, validate on 500 samples\n",
            "Epoch 1/6\n",
            "6000/6000 [==============================] - 24s 4ms/sample - loss: 1.8497 - accuracy: 0.3312 - val_loss: 1.6270 - val_accuracy: 0.4260\n",
            "Epoch 2/6\n",
            "6000/6000 [==============================] - 24s 4ms/sample - loss: 1.4629 - accuracy: 0.4762 - val_loss: 1.4171 - val_accuracy: 0.4780\n",
            "Epoch 3/6\n",
            "6000/6000 [==============================] - 23s 4ms/sample - loss: 1.2735 - accuracy: 0.5528 - val_loss: 1.3673 - val_accuracy: 0.5060\n",
            "Epoch 4/6\n",
            "6000/6000 [==============================] - 23s 4ms/sample - loss: 1.1209 - accuracy: 0.6053 - val_loss: 1.3452 - val_accuracy: 0.5080\n",
            "Epoch 5/6\n",
            "6000/6000 [==============================] - 23s 4ms/sample - loss: 1.0109 - accuracy: 0.6432 - val_loss: 1.2793 - val_accuracy: 0.5460\n",
            "Epoch 6/6\n",
            "6000/6000 [==============================] - 23s 4ms/sample - loss: 0.8767 - accuracy: 0.6967 - val_loss: 1.2089 - val_accuracy: 0.5640\n"
          ]
        },
        {
          "output_type": "display_data",
          "data": {
            "application/vnd.jupyter.widget-view+json": {
              "model_id": "80cad126e9184987af6b069988e77cac",
              "version_minor": 0,
              "version_major": 2
            },
            "text/plain": [
              "PGD - Random Initializations:   0%|          | 0/1 [00:00<?, ?it/s]"
            ]
          },
          "metadata": {}
        },
        {
          "output_type": "display_data",
          "data": {
            "application/vnd.jupyter.widget-view+json": {
              "model_id": "8c82636793814ffe900113ee2ba3c843",
              "version_minor": 0,
              "version_major": 2
            },
            "text/plain": [
              "PGD - Iterations:   0%|          | 0/100 [00:00<?, ?it/s]"
            ]
          },
          "metadata": {}
        },
        {
          "output_type": "display_data",
          "data": {
            "application/vnd.jupyter.widget-view+json": {
              "model_id": "d88bc962315442338d007af6fce72d34",
              "version_minor": 0,
              "version_major": 2
            },
            "text/plain": [
              "PGD - Random Initializations:   0%|          | 0/1 [00:00<?, ?it/s]"
            ]
          },
          "metadata": {}
        },
        {
          "output_type": "display_data",
          "data": {
            "application/vnd.jupyter.widget-view+json": {
              "model_id": "7e7fa9279fed44c6bd72ef6885ffee69",
              "version_minor": 0,
              "version_major": 2
            },
            "text/plain": [
              "PGD - Iterations:   0%|          | 0/100 [00:00<?, ?it/s]"
            ]
          },
          "metadata": {}
        },
        {
          "output_type": "display_data",
          "data": {
            "application/vnd.jupyter.widget-view+json": {
              "model_id": "41cba19487364f9e8596d555b87067c8",
              "version_minor": 0,
              "version_major": 2
            },
            "text/plain": [
              "PGD - Random Initializations:   0%|          | 0/1 [00:00<?, ?it/s]"
            ]
          },
          "metadata": {}
        },
        {
          "output_type": "display_data",
          "data": {
            "application/vnd.jupyter.widget-view+json": {
              "model_id": "a30502ed38384c2d8246012d9e22cf70",
              "version_minor": 0,
              "version_major": 2
            },
            "text/plain": [
              "PGD - Iterations:   0%|          | 0/100 [00:00<?, ?it/s]"
            ]
          },
          "metadata": {}
        },
        {
          "output_type": "display_data",
          "data": {
            "application/vnd.jupyter.widget-view+json": {
              "model_id": "b411c88423e44c1e9f64470f364fe0a4",
              "version_minor": 0,
              "version_major": 2
            },
            "text/plain": [
              "PGD - Random Initializations:   0%|          | 0/1 [00:00<?, ?it/s]"
            ]
          },
          "metadata": {}
        },
        {
          "output_type": "display_data",
          "data": {
            "application/vnd.jupyter.widget-view+json": {
              "model_id": "4e9fb5fc1f95498f9db13574f162f49e",
              "version_minor": 0,
              "version_major": 2
            },
            "text/plain": [
              "PGD - Iterations:   0%|          | 0/100 [00:00<?, ?it/s]"
            ]
          },
          "metadata": {}
        },
        {
          "output_type": "display_data",
          "data": {
            "application/vnd.jupyter.widget-view+json": {
              "model_id": "88ca853bd02448998ab940aea447e9ff",
              "version_minor": 0,
              "version_major": 2
            },
            "text/plain": [
              "PGD - Random Initializations:   0%|          | 0/1 [00:00<?, ?it/s]"
            ]
          },
          "metadata": {}
        },
        {
          "output_type": "display_data",
          "data": {
            "application/vnd.jupyter.widget-view+json": {
              "model_id": "01a84c6efd8d407f8a417a33b6f7ff01",
              "version_minor": 0,
              "version_major": 2
            },
            "text/plain": [
              "PGD - Iterations:   0%|          | 0/100 [00:00<?, ?it/s]"
            ]
          },
          "metadata": {}
        },
        {
          "output_type": "display_data",
          "data": {
            "application/vnd.jupyter.widget-view+json": {
              "model_id": "c96f3b4e63994da080db6fdbacad8494",
              "version_minor": 0,
              "version_major": 2
            },
            "text/plain": [
              "PGD - Random Initializations:   0%|          | 0/1 [00:00<?, ?it/s]"
            ]
          },
          "metadata": {}
        },
        {
          "output_type": "display_data",
          "data": {
            "application/vnd.jupyter.widget-view+json": {
              "model_id": "560d0d68ac2c49c29b93e6c9c8364e7a",
              "version_minor": 0,
              "version_major": 2
            },
            "text/plain": [
              "PGD - Iterations:   0%|          | 0/100 [00:00<?, ?it/s]"
            ]
          },
          "metadata": {}
        },
        {
          "output_type": "display_data",
          "data": {
            "application/vnd.jupyter.widget-view+json": {
              "model_id": "1c3ac4a26a404592acfb46999ec505e4",
              "version_minor": 0,
              "version_major": 2
            },
            "text/plain": [
              "PGD - Random Initializations:   0%|          | 0/1 [00:00<?, ?it/s]"
            ]
          },
          "metadata": {}
        },
        {
          "output_type": "display_data",
          "data": {
            "application/vnd.jupyter.widget-view+json": {
              "model_id": "1011b3ce336a49e2a72bcf956b5a5d79",
              "version_minor": 0,
              "version_major": 2
            },
            "text/plain": [
              "PGD - Iterations:   0%|          | 0/100 [00:00<?, ?it/s]"
            ]
          },
          "metadata": {}
        },
        {
          "output_type": "display_data",
          "data": {
            "application/vnd.jupyter.widget-view+json": {
              "model_id": "14e72337347443e28a0f3c3a1df49de2",
              "version_minor": 0,
              "version_major": 2
            },
            "text/plain": [
              "PGD - Random Initializations:   0%|          | 0/1 [00:00<?, ?it/s]"
            ]
          },
          "metadata": {}
        },
        {
          "output_type": "display_data",
          "data": {
            "application/vnd.jupyter.widget-view+json": {
              "model_id": "6f9c3166757f4de79da113b2c94dbebf",
              "version_minor": 0,
              "version_major": 2
            },
            "text/plain": [
              "PGD - Iterations:   0%|          | 0/100 [00:00<?, ?it/s]"
            ]
          },
          "metadata": {}
        },
        {
          "output_type": "display_data",
          "data": {
            "application/vnd.jupyter.widget-view+json": {
              "model_id": "28aa02ca46ce42bc9699d0d7b203963c",
              "version_minor": 0,
              "version_major": 2
            },
            "text/plain": [
              "PGD - Random Initializations:   0%|          | 0/1 [00:00<?, ?it/s]"
            ]
          },
          "metadata": {}
        },
        {
          "output_type": "display_data",
          "data": {
            "application/vnd.jupyter.widget-view+json": {
              "model_id": "c7d21620c3e243f58b761b7bd5858bcc",
              "version_minor": 0,
              "version_major": 2
            },
            "text/plain": [
              "PGD - Iterations:   0%|          | 0/100 [00:00<?, ?it/s]"
            ]
          },
          "metadata": {}
        },
        {
          "output_type": "display_data",
          "data": {
            "application/vnd.jupyter.widget-view+json": {
              "model_id": "82f33130858d4a33b20d047d47e89e89",
              "version_minor": 0,
              "version_major": 2
            },
            "text/plain": [
              "PGD - Random Initializations:   0%|          | 0/1 [00:00<?, ?it/s]"
            ]
          },
          "metadata": {}
        },
        {
          "output_type": "display_data",
          "data": {
            "application/vnd.jupyter.widget-view+json": {
              "model_id": "7d011e1c1d9a4c41942b149e83652fad",
              "version_minor": 0,
              "version_major": 2
            },
            "text/plain": [
              "PGD - Iterations:   0%|          | 0/100 [00:00<?, ?it/s]"
            ]
          },
          "metadata": {}
        },
        {
          "output_type": "display_data",
          "data": {
            "application/vnd.jupyter.widget-view+json": {
              "model_id": "8991d1b133a34818845e85db1c67004e",
              "version_minor": 0,
              "version_major": 2
            },
            "text/plain": [
              "PGD - Random Initializations:   0%|          | 0/1 [00:00<?, ?it/s]"
            ]
          },
          "metadata": {}
        },
        {
          "output_type": "display_data",
          "data": {
            "application/vnd.jupyter.widget-view+json": {
              "model_id": "cd39ef5a5ba14873beed4668afab5b5e",
              "version_minor": 0,
              "version_major": 2
            },
            "text/plain": [
              "PGD - Iterations:   0%|          | 0/100 [00:00<?, ?it/s]"
            ]
          },
          "metadata": {}
        },
        {
          "output_type": "display_data",
          "data": {
            "application/vnd.jupyter.widget-view+json": {
              "model_id": "96338cdaa31a41a5bb7a8bf56d2f2adf",
              "version_minor": 0,
              "version_major": 2
            },
            "text/plain": [
              "PGD - Random Initializations:   0%|          | 0/1 [00:00<?, ?it/s]"
            ]
          },
          "metadata": {}
        },
        {
          "output_type": "display_data",
          "data": {
            "application/vnd.jupyter.widget-view+json": {
              "model_id": "3e33c5bff865410b83b8fbd0e459adf9",
              "version_minor": 0,
              "version_major": 2
            },
            "text/plain": [
              "PGD - Iterations:   0%|          | 0/100 [00:00<?, ?it/s]"
            ]
          },
          "metadata": {}
        },
        {
          "output_type": "display_data",
          "data": {
            "application/vnd.jupyter.widget-view+json": {
              "model_id": "e541055e99dd442b9f4e397d963f3f95",
              "version_minor": 0,
              "version_major": 2
            },
            "text/plain": [
              "PGD - Random Initializations:   0%|          | 0/1 [00:00<?, ?it/s]"
            ]
          },
          "metadata": {}
        },
        {
          "output_type": "display_data",
          "data": {
            "application/vnd.jupyter.widget-view+json": {
              "model_id": "c98e39e1c0d546b2bcf6b7b60c3ca313",
              "version_minor": 0,
              "version_major": 2
            },
            "text/plain": [
              "PGD - Iterations:   0%|          | 0/100 [00:00<?, ?it/s]"
            ]
          },
          "metadata": {}
        },
        {
          "output_type": "display_data",
          "data": {
            "application/vnd.jupyter.widget-view+json": {
              "model_id": "e44e587e67e84dbd96ff701542d6f4db",
              "version_minor": 0,
              "version_major": 2
            },
            "text/plain": [
              "PGD - Random Initializations:   0%|          | 0/1 [00:00<?, ?it/s]"
            ]
          },
          "metadata": {}
        },
        {
          "output_type": "display_data",
          "data": {
            "application/vnd.jupyter.widget-view+json": {
              "model_id": "fd54e65dc61f4ea984ca2457a805512b",
              "version_minor": 0,
              "version_major": 2
            },
            "text/plain": [
              "PGD - Iterations:   0%|          | 0/100 [00:00<?, ?it/s]"
            ]
          },
          "metadata": {}
        },
        {
          "output_type": "display_data",
          "data": {
            "application/vnd.jupyter.widget-view+json": {
              "model_id": "635d7053da7943f0a3c539edeca30491",
              "version_minor": 0,
              "version_major": 2
            },
            "text/plain": [
              "PGD - Random Initializations:   0%|          | 0/1 [00:00<?, ?it/s]"
            ]
          },
          "metadata": {}
        },
        {
          "output_type": "display_data",
          "data": {
            "application/vnd.jupyter.widget-view+json": {
              "model_id": "395c3ca17b6b4708a4156176e8e3ae54",
              "version_minor": 0,
              "version_major": 2
            },
            "text/plain": [
              "PGD - Iterations:   0%|          | 0/100 [00:00<?, ?it/s]"
            ]
          },
          "metadata": {}
        },
        {
          "output_type": "display_data",
          "data": {
            "application/vnd.jupyter.widget-view+json": {
              "model_id": "3b9d8508e55845afb0ea5bb9b199cbd6",
              "version_minor": 0,
              "version_major": 2
            },
            "text/plain": [
              "PGD - Random Initializations:   0%|          | 0/1 [00:00<?, ?it/s]"
            ]
          },
          "metadata": {}
        },
        {
          "output_type": "display_data",
          "data": {
            "application/vnd.jupyter.widget-view+json": {
              "model_id": "ad53e8f9c77945a5b35af29bad1cc1d5",
              "version_minor": 0,
              "version_major": 2
            },
            "text/plain": [
              "PGD - Iterations:   0%|          | 0/100 [00:00<?, ?it/s]"
            ]
          },
          "metadata": {}
        },
        {
          "output_type": "display_data",
          "data": {
            "application/vnd.jupyter.widget-view+json": {
              "model_id": "8be2fe11dcd94e5fb90d71c589a485bb",
              "version_minor": 0,
              "version_major": 2
            },
            "text/plain": [
              "JSMA:   0%|          | 0/500 [00:00<?, ?it/s]"
            ]
          },
          "metadata": {}
        },
        {
          "output_type": "stream",
          "name": "stdout",
          "text": [
            "Accuracy: 0.564\n",
            "Accuracy FGM: 0.210\n",
            "Accuracy PGD: 0.186\n",
            "Accuracy JSMA: 0.032\n"
          ]
        }
      ]
    }
  ]
}