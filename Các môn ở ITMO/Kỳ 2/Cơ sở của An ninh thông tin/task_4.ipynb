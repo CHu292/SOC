{
  "nbformat": 4,
  "nbformat_minor": 0,
  "metadata": {
    "kernelspec": {
      "display_name": "Python 3",
      "language": "python",
      "name": "python3"
    },
    "language_info": {
      "codemirror_mode": {
        "name": "ipython",
        "version": 3
      },
      "file_extension": ".py",
      "mimetype": "text/x-python",
      "name": "python",
      "nbconvert_exporter": "python",
      "pygments_lexer": "ipython3",
      "version": "3.7.6"
    },
    "colab": {
      "name": "Task_1_students.ipynb",
      "provenance": []
    }
  },
  "cells": [
    {
      "cell_type": "markdown",
      "metadata": {
        "id": "q4RL3gpO4Ghr"
      },
      "source": [
        "# Генерация тренировочного и тестового датасетов"
      ]
    },
    {
      "cell_type": "markdown",
      "metadata": {
        "id": "F2uYR3B84Ghw"
      },
      "source": [
        "# Скачиваем архив"
      ]
    },
    {
      "cell_type": "code",
      "metadata": {
        "colab": {
          "base_uri": "https://localhost:8080/"
        },
        "id": "rj2jHM2X4NIa",
        "outputId": "f81f609f-ac98-4af9-d662-20da08bb3950"
      },
      "source": [
        "!wget \"https://courses.openedu.ru/assets/courseware/v1/59dbdef6c7b548953210145ec4ffdca3/asset-v1:ITMOUniversity+INFSECBAS+fall_2021_ITMO+type@asset+block/Task_1_prepprocessed.csv.zip\"\n",
        "!unzip Task_1_prepprocessed.csv"
      ],
      "execution_count": 2,
      "outputs": [
        {
          "output_type": "stream",
          "name": "stdout",
          "text": [
            "--2021-10-08 21:48:42--  https://courses.openedu.ru/assets/courseware/v1/59dbdef6c7b548953210145ec4ffdca3/asset-v1:ITMOUniversity+INFSECBAS+fall_2021_ITMO+type@asset+block/Task_1_prepprocessed.csv.zip\n",
            "Resolving courses.openedu.ru (courses.openedu.ru)... 178.248.235.109\n",
            "Connecting to courses.openedu.ru (courses.openedu.ru)|178.248.235.109|:443... connected.\n",
            "HTTP request sent, awaiting response... 302 Moved Temporarily\n",
            "Location: https://cdn.openedu.ru/ESZCBLZ/courseware/v1/59dbdef6c7b548953210145ec4ffdca3/asset-v1:ITMOUniversity+INFSECBAS+fall_2021_ITMO+type@asset+block/Task_1_prepprocessed.csv.zip [following]\n",
            "--2021-10-08 21:48:42--  https://cdn.openedu.ru/ESZCBLZ/courseware/v1/59dbdef6c7b548953210145ec4ffdca3/asset-v1:ITMOUniversity+INFSECBAS+fall_2021_ITMO+type@asset+block/Task_1_prepprocessed.csv.zip\n",
            "Resolving cdn.openedu.ru (cdn.openedu.ru)... 93.93.88.30\n",
            "Connecting to cdn.openedu.ru (cdn.openedu.ru)|93.93.88.30|:443... connected.\n",
            "HTTP request sent, awaiting response... 200 OK\n",
            "Length: 8864781 (8.5M) [application/zip]\n",
            "Saving to: ‘Task_1_prepprocessed.csv.zip’\n",
            "\n",
            "Task_1_prepprocesse 100%[===================>]   8.45M  7.62MB/s    in 1.1s    \n",
            "\n",
            "2021-10-08 21:48:45 (7.62 MB/s) - ‘Task_1_prepprocessed.csv.zip’ saved [8864781/8864781]\n",
            "\n",
            "Archive:  Task_1_prepprocessed.csv.zip\n",
            "  inflating: Task_1_prepprocessed.csv  \n",
            "  inflating: __MACOSX/._Task_1_prepprocessed.csv  \n"
          ]
        }
      ]
    },
    {
      "cell_type": "markdown",
      "metadata": {
        "id": "PnWFwKE5FIDq"
      },
      "source": [
        "# Меняем по заданию"
      ]
    },
    {
      "cell_type": "code",
      "metadata": {
        "id": "ZlPa9--X4Yl2"
      },
      "source": [
        "test_size = 0.3\n",
        "random_state = 65\n",
        "n_estimators = 10\n",
        "n_jobs = 10\n",
        "\n",
        "text_URL = \"https://courses.openedu.ru/assets/courseware/v1/0a3b28bd6d49a6f3509c1e281dca1613/asset-v1:ITMOUniversity+INFSECBAS+fall_2021_ITMO+type@asset+block/task_1_P_test_2.csv\""
      ],
      "execution_count": 42,
      "outputs": []
    },
    {
      "cell_type": "markdown",
      "metadata": {
        "id": "AgMZ-W0vFCkX"
      },
      "source": [
        "# Код программы"
      ]
    },
    {
      "cell_type": "code",
      "metadata": {
        "colab": {
          "base_uri": "https://localhost:8080/"
        },
        "id": "Dw1Y2QyX4Ghx",
        "outputId": "1a0e39b2-50ef-4a6c-c8f8-c143a6e57ba7"
      },
      "source": [
        "import pandas as pd\n",
        "import numpy as np\n",
        "from sklearn.model_selection import train_test_split\n",
        "from sklearn.feature_extraction.text import TfidfVectorizer\n",
        "from sklearn.ensemble import RandomForestClassifier\n",
        "from sklearn.metrics import confusion_matrix\n",
        "from sklearn.metrics import precision_score\n",
        "from sklearn.metrics import precision_recall_fscore_support\n",
        "import scipy as sp\n",
        "\n",
        "df = pd.read_csv('Task_1_prepprocessed.csv')\n",
        "df = df.dropna()\n",
        "x_train, x_test, y_train, y_test = train_test_split(df.iloc[:, 5], df.iloc[:,0], test_size=test_size, random_state=random_state)\n",
        "\n",
        "df_copy = df.copy(deep = True)\n",
        "\n",
        "for i in range(len(df_copy)):\n",
        "    if df.iat[i, 4] != '':\n",
        "        try:\n",
        "            df_copy.iat[i, 5] = df_copy.iat[i, 4] + ' ' + df_copy.iat[i, 5]\n",
        "        except:\n",
        "            print(\"Something got wrong!\")\n",
        "            \n",
        "x_train_b, x_test_b, _, _ = train_test_split(df_copy.iloc[:, [1, 5]], df_copy.iloc[:,0], test_size=test_size, random_state=random_state)\n",
        "\n",
        "vectorizer_a = TfidfVectorizer()\n",
        "x_train_a = vectorizer_a.fit_transform(x_train)\n",
        "x_test_a = vectorizer_a.transform(x_test)\n",
        "\n",
        "vectorizer_b = TfidfVectorizer()\n",
        "x_train_b = sp.sparse.hstack((vectorizer_b.fit_transform(x_train_b.iloc[:, 1]), x_train_b.iloc[:, 0].values.reshape(len(x_train_b.iloc[:, 0]),1)))\n",
        "x_test_b = sp.sparse.hstack((vectorizer_b.transform(x_test_b.iloc[:, 1]), x_test_b.iloc[:, 0].values.reshape(len(x_test_b.iloc[:, 0]),1)))\n",
        "\n",
        "vectorizer_c = TfidfVectorizer(ngram_range = (2, 2))\n",
        "x_train_c = vectorizer_c.fit_transform(x_train)\n",
        "x_test_c = vectorizer_c.transform(x_test)\n",
        "\n",
        "rfc_a = RandomForestClassifier(random_state=random_state, n_jobs=n_jobs, n_estimators=n_estimators)\n",
        "rfc_b = RandomForestClassifier(random_state=random_state, n_jobs=n_jobs, n_estimators=n_estimators)\n",
        "rfc_c = RandomForestClassifier(random_state=random_state, n_jobs=n_jobs, n_estimators=n_estimators)\n",
        "\n",
        "rfc_a.fit(x_train_a, y_train)\n",
        "rfc_b.fit(x_train_b, y_train)\n",
        "rfc_c.fit(x_train_c, y_train)\n",
        "\n",
        "y_pred_a = rfc_a.predict(x_test_a)\n",
        "y_pred_b = rfc_b.predict(x_test_b)\n",
        "y_pred_c = rfc_c.predict(x_test_c)\n",
        "\n",
        "precision_a, recall_a, f1score_a, support_a = precision_recall_fscore_support(y_test, y_pred_a)\n",
        "precision_b, recall_b, f1score_b, support_b = precision_recall_fscore_support(y_test, y_pred_b)\n",
        "precision_c, recall_c, f1score_c, support_c = precision_recall_fscore_support(y_test, y_pred_c)\n",
        "\n",
        "text = pd.read_csv(text_URL, delimiter=\";\").columns.tolist()\n",
        "pred = rfc_c.predict(vectorizer_c.transform([text[0]])[0])[0]\n",
        "\n",
        "print(\"Ответы:\")\n",
        "print(f\"Precision (macro avg) = %.3f\" % (sum(precision_a)/len(precision_a)))\n",
        "print(f\"Recall (macro avg) = %.3f\" % (sum(recall_a)/len(recall_a)))\n",
        "print(f\"F-score (macro avg) = %.3f\" % (sum(f1score_a)/len(f1score_a)))\n",
        "print()\n",
        "print(f\"Precision (macro avg) = %.3f\" % (sum(precision_b)/len(precision_b)))\n",
        "print(f\"Recall (macro avg) = %.3f\" % (sum(recall_b)/len(recall_b)))\n",
        "print(f\"F-score (macro avg) = %.3f\" % (sum(f1score_b)/len(f1score_b)))\n",
        "print()\n",
        "print(f\"Precision (macro avg) = %.3f\" % (sum(precision_c)/len(precision_c)))\n",
        "print(f\"Recall (macro avg) = %.3f\" % (sum(recall_c)/len(recall_c)))\n",
        "print(f\"F-score (macro avg) = %.3f\" % (sum(f1score_c)/len(f1score_c)))\n",
        "print()\n",
        "print(\"К классу:\", pred)\n",
        "print(f\"Вероятность к классу {pred}\", rfc_c.predict_proba(vectorizer_c.transform([text[0]])[0])[0][pred])"
      ],
      "execution_count": 92,
      "outputs": [
        {
          "output_type": "stream",
          "name": "stdout",
          "text": [
            "Ответы:\n",
            "Precision (macro avg) = 0.967\n",
            "Recall (macro avg) = 0.964\n",
            "F-score (macro avg) = 0.965\n",
            "\n",
            "Precision (macro avg) = 0.969\n",
            "Recall (macro avg) = 0.966\n",
            "F-score (macro avg) = 0.967\n",
            "\n",
            "Precision (macro avg) = 0.953\n",
            "Recall (macro avg) = 0.947\n",
            "F-score (macro avg) = 0.949\n",
            "\n",
            "К классу: 0\n",
            "Вероятность к классу 0 0.7\n"
          ]
        }
      ]
    }
  ]
}